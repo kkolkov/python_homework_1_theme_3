{
 "cells": [
  {
   "cell_type": "code",
   "execution_count": null,
   "id": "32d0d019-08b8-49b0-9130-764ea0a4982a",
   "metadata": {},
   "outputs": [],
   "source": [
    "Тема: Исключения и обработка ошибок"
   ]
  },
  {
   "cell_type": "code",
   "execution_count": null,
   "id": "1f04b61e-0dbe-4a8a-ba5d-7a8ba290fa13",
   "metadata": {},
   "outputs": [],
   "source": [
    "Задание 1. Обработка деления на ноль\n",
    "Напишите программу, которая принимает два числа от пользователя и выводит результат их деления. Используйте обработку исключений, чтобы корректно \n",
    "обработать ситуацию, когда пользователь вводит 0 в качестве второго числа."
   ]
  },
  {
   "cell_type": "code",
   "execution_count": 2,
   "id": "b0367d44-c8ea-4fa6-9dea-166ae56c965a",
   "metadata": {},
   "outputs": [],
   "source": [
    "def task1():\n",
    "    try:\n",
    "        num1 = float(input(\"Введите первое число: \"))\n",
    "        num2 = float(input(\"Введите второе число: \"))\n",
    "        result = num1 / num2\n",
    "        print(f\"Результат деления: {result}\")\n",
    "    except ZeroDivisionError:\n",
    "        print(\"Ошибка: Деление на ноль невозможно!\")"
   ]
  },
  {
   "cell_type": "code",
   "execution_count": 3,
   "id": "c3efbd86-8ff2-40ae-92bc-e783b63d3837",
   "metadata": {},
   "outputs": [
    {
     "name": "stdin",
     "output_type": "stream",
     "text": [
      "Введите первое число:  5\n",
      "Введите второе число:  0\n"
     ]
    },
    {
     "name": "stdout",
     "output_type": "stream",
     "text": [
      "Ошибка: Деление на ноль невозможно!\n"
     ]
    }
   ],
   "source": [
    "task1()"
   ]
  },
  {
   "cell_type": "code",
   "execution_count": 4,
   "id": "82ce6ec2-59c5-4f1f-8978-f2b6031e6b19",
   "metadata": {},
   "outputs": [
    {
     "name": "stdin",
     "output_type": "stream",
     "text": [
      "Введите первое число:  5\n",
      "Введите второе число:  5\n"
     ]
    },
    {
     "name": "stdout",
     "output_type": "stream",
     "text": [
      "Результат деления: 1.0\n"
     ]
    }
   ],
   "source": [
    "task1()"
   ]
  },
  {
   "cell_type": "code",
   "execution_count": null,
   "id": "4f515088-2fc1-4d9c-b396-1e715a041a85",
   "metadata": {},
   "outputs": [],
   "source": [
    "Задание 2. Обработка некорректного ввода\n",
    "Расширьте предыдущую программу, чтобы она также обрабатывала ситуацию, когда пользователь вводит строку вместо числа. Используйте несколько блоков \n",
    "except для обработки разных типов исключений."
   ]
  },
  {
   "cell_type": "code",
   "execution_count": 5,
   "id": "5060eaed-3397-4877-a8ff-5d1a2cd3f9df",
   "metadata": {},
   "outputs": [],
   "source": [
    "def task2():\n",
    "    try:\n",
    "        num1 = float(input(\"Введите первое число: \"))\n",
    "        num2 = float(input(\"Введите второе число: \"))\n",
    "        result = num1 / num2\n",
    "        print(f\"Результат деления: {result}\")\n",
    "    except ZeroDivisionError:\n",
    "        print(\"Ошибка: Деление на ноль невозможно!\")\n",
    "    except ValueError:\n",
    "        print(\"Ошибка: Введена строка вместо числа!\")\n",
    "    except Exception as e:\n",
    "        print(f\"Произошла неизвестная ошибка: {e}\")"
   ]
  },
  {
   "cell_type": "code",
   "execution_count": 6,
   "id": "64af479a-6428-47fd-be18-c6f8466a9c55",
   "metadata": {},
   "outputs": [
    {
     "name": "stdin",
     "output_type": "stream",
     "text": [
      "Введите первое число:  sdfad\n"
     ]
    },
    {
     "name": "stdout",
     "output_type": "stream",
     "text": [
      "Ошибка: Введена строка вместо числа!\n"
     ]
    }
   ],
   "source": [
    "task2()"
   ]
  },
  {
   "cell_type": "code",
   "execution_count": 7,
   "id": "a792aa0d-acda-4528-b709-eec61daff1c8",
   "metadata": {},
   "outputs": [
    {
     "name": "stdin",
     "output_type": "stream",
     "text": [
      "Введите первое число:  1\n",
      "Введите второе число:  0\n"
     ]
    },
    {
     "name": "stdout",
     "output_type": "stream",
     "text": [
      "Ошибка: Деление на ноль невозможно!\n"
     ]
    }
   ],
   "source": [
    "task2()"
   ]
  },
  {
   "cell_type": "code",
   "execution_count": 8,
   "id": "859093fd-a0d6-4633-8619-4118cc62470d",
   "metadata": {},
   "outputs": [
    {
     "name": "stdin",
     "output_type": "stream",
     "text": [
      "Введите первое число:  1\n",
      "Введите второе число:  1\n"
     ]
    },
    {
     "name": "stdout",
     "output_type": "stream",
     "text": [
      "Результат деления: 1.0\n"
     ]
    }
   ],
   "source": [
    "task2()"
   ]
  },
  {
   "cell_type": "code",
   "execution_count": 9,
   "id": "bd32fe35-4b6f-450f-8284-2261efbe8e1c",
   "metadata": {},
   "outputs": [
    {
     "name": "stdin",
     "output_type": "stream",
     "text": [
      "Введите первое число:  0sdfsd\n"
     ]
    },
    {
     "name": "stdout",
     "output_type": "stream",
     "text": [
      "Ошибка: Введена строка вместо числа!\n"
     ]
    }
   ],
   "source": [
    "task2()"
   ]
  },
  {
   "cell_type": "code",
   "execution_count": null,
   "id": "627f6b5c-b85c-4e2a-a12b-a20cad92ea93",
   "metadata": {},
   "outputs": [],
   "source": [
    "Задание 3. Создание собственных исключений\n",
    "Напишите программу, которая вычисляет сумму списка целых чисел. Создайте свои собственные классы исключений для обработки ситуаций, когда в списке \n",
    "есть хотя бы одно чётное или отрицательное число. Используйте оператор raise для генерации исключений."
   ]
  },
  {
   "cell_type": "code",
   "execution_count": 10,
   "id": "4de3baee-55b4-4a97-a71c-68617f273cd5",
   "metadata": {},
   "outputs": [],
   "source": [
    "# Создаем собственные классы исключений\n",
    "class EvenNumberError(Exception):\n",
    "    \"\"\"Исключение для четных чисел\"\"\"\n",
    "    pass\n",
    "\n",
    "class NegativeNumberError(Exception):\n",
    "    \"\"\"Исключение для отрицательных чисел\"\"\"\n",
    "    pass"
   ]
  },
  {
   "cell_type": "code",
   "execution_count": 11,
   "id": "ac80c380-714d-4121-8297-5b09c952141b",
   "metadata": {},
   "outputs": [],
   "source": [
    "def task3():\n",
    "    def check_list(numbers):\n",
    "        \"\"\"Проверяет список на наличие четных и отрицательных чисел\"\"\"\n",
    "        for num in numbers:\n",
    "            if num % 2 == 0:\n",
    "                raise EvenNumberError(f\"В списке найдено четное число: {num}\")\n",
    "            if num < 0:\n",
    "                raise NegativeNumberError(f\"В списке найдено отрицательное число: {num}\")\n",
    "    \n",
    "    # Тестируем функцию\n",
    "    test_lists = [\n",
    "        [1, 3, 5],           # нормальный список\n",
    "        [1, 2, 3],           # список с четным числом\n",
    "        [1, -1, 3],          # список с отрицательным числом\n",
    "        [2, -2, 4]           # список с обоими проблемами\n",
    "    ]\n",
    "    \n",
    "    for i, test_list in enumerate(test_lists, 1):\n",
    "        print(f\"\\nТест {i}: {test_list}\")\n",
    "        try:\n",
    "            check_list(test_list)\n",
    "            total = sum(test_list)\n",
    "            print(f\"Сумма чисел: {total}\")\n",
    "        except EvenNumberError as e:\n",
    "            print(f\"Ошибка четного числа: {e}\")\n",
    "        except NegativeNumberError as e:\n",
    "            print(f\"Ошибка отрицательного числа: {e}\")\n"
   ]
  },
  {
   "cell_type": "code",
   "execution_count": 12,
   "id": "233d2640-da89-4b4e-b206-acfba8434050",
   "metadata": {},
   "outputs": [
    {
     "name": "stdout",
     "output_type": "stream",
     "text": [
      "\n",
      "Тест 1: [1, 3, 5]\n",
      "Сумма чисел: 9\n",
      "\n",
      "Тест 2: [1, 2, 3]\n",
      "Ошибка четного числа: В списке найдено четное число: 2\n",
      "\n",
      "Тест 3: [1, -1, 3]\n",
      "Ошибка отрицательного числа: В списке найдено отрицательное число: -1\n",
      "\n",
      "Тест 4: [2, -2, 4]\n",
      "Ошибка четного числа: В списке найдено четное число: 2\n"
     ]
    }
   ],
   "source": [
    "task3()"
   ]
  },
  {
   "cell_type": "code",
   "execution_count": null,
   "id": "b690bfd3-66c5-499f-8af0-4071e6ca175b",
   "metadata": {},
   "outputs": [],
   "source": [
    "Задание 4. Обработка ошибок индексации\n",
    "Напишите программу, которая принимает от пользователя индекс элемента списка и выводит значение этого элемента. Используйте обработку исключений \n",
    "для корректной обработки ситуаций, когда пользователь вводит индекс, выходящий за пределы списка."
   ]
  },
  {
   "cell_type": "code",
   "execution_count": 13,
   "id": "b4f6c7d5-827c-4968-a0f1-4fb51b09398d",
   "metadata": {},
   "outputs": [],
   "source": [
    "def task4():\n",
    "    my_list = [10, 20, 30, 40, 50]\n",
    "    print(f\"Список: {my_list}\")\n",
    "    \n",
    "    try:\n",
    "        index = int(input(\"Введите индекс элемента: \"))\n",
    "        element = my_list[index]\n",
    "        print(f\"Элемент с индексом {index}: {element}\")\n",
    "    except IndexError:\n",
    "        print(f\"Ошибка: Индекс {index} выходит за пределы списка!\")\n",
    "    except ValueError:\n",
    "        print(\"Ошибка: Введена строка вместо числа!\")\n"
   ]
  },
  {
   "cell_type": "code",
   "execution_count": 14,
   "id": "8acb0504-deea-4081-90a7-8b1f2d01cbe4",
   "metadata": {},
   "outputs": [
    {
     "name": "stdout",
     "output_type": "stream",
     "text": [
      "Список: [10, 20, 30, 40, 50]\n"
     ]
    },
    {
     "name": "stdin",
     "output_type": "stream",
     "text": [
      "Введите индекс элемента:  3\n"
     ]
    },
    {
     "name": "stdout",
     "output_type": "stream",
     "text": [
      "Элемент с индексом 3: 40\n"
     ]
    }
   ],
   "source": [
    "task4()"
   ]
  },
  {
   "cell_type": "code",
   "execution_count": 15,
   "id": "15c92841-2f58-45cd-96f0-ad01083ec668",
   "metadata": {},
   "outputs": [
    {
     "name": "stdout",
     "output_type": "stream",
     "text": [
      "Список: [10, 20, 30, 40, 50]\n"
     ]
    },
    {
     "name": "stdin",
     "output_type": "stream",
     "text": [
      "Введите индекс элемента:  fghdfgh\n"
     ]
    },
    {
     "name": "stdout",
     "output_type": "stream",
     "text": [
      "Ошибка: Введена строка вместо числа!\n"
     ]
    }
   ],
   "source": [
    "task4()"
   ]
  },
  {
   "cell_type": "code",
   "execution_count": 16,
   "id": "1b8bfc6e-01e2-4016-b22d-f415bb225e5b",
   "metadata": {},
   "outputs": [
    {
     "name": "stdout",
     "output_type": "stream",
     "text": [
      "Список: [10, 20, 30, 40, 50]\n"
     ]
    },
    {
     "name": "stdin",
     "output_type": "stream",
     "text": [
      "Введите индекс элемента:  -2\n"
     ]
    },
    {
     "name": "stdout",
     "output_type": "stream",
     "text": [
      "Элемент с индексом -2: 40\n"
     ]
    }
   ],
   "source": [
    "task4()"
   ]
  },
  {
   "cell_type": "code",
   "execution_count": 17,
   "id": "1434723e-97ac-4fc2-9847-8040e8482a8a",
   "metadata": {},
   "outputs": [
    {
     "name": "stdout",
     "output_type": "stream",
     "text": [
      "Список: [10, 20, 30, 40, 50]\n"
     ]
    },
    {
     "name": "stdin",
     "output_type": "stream",
     "text": [
      "Введите индекс элемента:  8\n"
     ]
    },
    {
     "name": "stdout",
     "output_type": "stream",
     "text": [
      "Ошибка: Индекс 8 выходит за пределы списка!\n"
     ]
    }
   ],
   "source": [
    "task4()"
   ]
  },
  {
   "cell_type": "code",
   "execution_count": null,
   "id": "f896c6ac-9584-484b-a252-f47bc677b311",
   "metadata": {},
   "outputs": [],
   "source": [
    "Задание 5. Обработка ошибок преобразования типов\n",
    "Напишите программу, которая принимает от пользователя строку и преобразует её в число с плавающей точкой. Используйте обработку исключений для \n",
    "корректной обработки ситуаций, когда пользователь вводит строку, которую невозможно преобразовать в число."
   ]
  },
  {
   "cell_type": "code",
   "execution_count": 18,
   "id": "2b799bb6-f122-47ce-9317-9e831a2c80e7",
   "metadata": {},
   "outputs": [],
   "source": [
    "def task5():\n",
    "    try:\n",
    "        user_input = input(\"Введите число с плавающей точкой: \")\n",
    "        number = float(user_input)\n",
    "        print(f\"Преобразованное число: {number}\")\n",
    "    except ValueError:\n",
    "        print(f\"Ошибка: Невозможно преобразовать '{user_input}' в число!\")\n"
   ]
  },
  {
   "cell_type": "code",
   "execution_count": 19,
   "id": "4e71ea61-3503-40e1-a170-2ca38d75107b",
   "metadata": {},
   "outputs": [
    {
     "name": "stdin",
     "output_type": "stream",
     "text": [
      "Введите число с плавающей точкой:  1.222\n"
     ]
    },
    {
     "name": "stdout",
     "output_type": "stream",
     "text": [
      "Преобразованное число: 1.222\n"
     ]
    }
   ],
   "source": [
    "task5()"
   ]
  },
  {
   "cell_type": "code",
   "execution_count": 20,
   "id": "f8351fe7-bc26-48d2-9839-1b2fafce180e",
   "metadata": {},
   "outputs": [
    {
     "name": "stdin",
     "output_type": "stream",
     "text": [
      "Введите число с плавающей точкой:  1,5665\n"
     ]
    },
    {
     "name": "stdout",
     "output_type": "stream",
     "text": [
      "Ошибка: Невозможно преобразовать '1,5665' в число!\n"
     ]
    }
   ],
   "source": [
    "task5()"
   ]
  },
  {
   "cell_type": "code",
   "execution_count": null,
   "id": "d3985409-0c9d-4bac-88cb-cdda7062bb49",
   "metadata": {},
   "outputs": [],
   "source": [
    "Задание 6. Обработка ошибок импорта модулей\n",
    "Напишите программу, которая импортирует модуль math и использует функцию sqrt() для вычисления квадратного корня числа, введённого пользователем. \n",
    "Используйте обработку исключений для корректной обработки ситуаций, когда модуль math не может быть импортирован или функция sqrt() не может быть \n",
    "вызвана для отрицательного числа."
   ]
  },
  {
   "cell_type": "code",
   "execution_count": 25,
   "id": "2ebe5b8d-7638-4711-ae7d-5497a33c7fa8",
   "metadata": {},
   "outputs": [],
   "source": [
    "def task6():\n",
    "    try:\n",
    "        import math\n",
    "        \n",
    "        try:\n",
    "            user_input = input(\"Введите число для вычисления квадратного корня: \")\n",
    "            number = float(user_input)\n",
    "            \n",
    "            if number < 0:\n",
    "                raise ValueError(\"Невозможно вычислить корень из отрицательного числа\")\n",
    "            \n",
    "            result = math.sqrt(number)\n",
    "            print(f\"Квадратный корень из {number}: {result}\")\n",
    "            \n",
    "        except ValueError as e:\n",
    "            if \"нельзя извлечь корень\" in str(e).lower() or number < 0:\n",
    "                print(\"Ошибка: Невозможно вычислить квадратный корень из отрицательного числа!\")\n",
    "            else:\n",
    "                print(f\"Ошибка: Невозможно преобразовать '{user_input}' в число!\")\n",
    "                \n",
    "    except ImportError:\n",
    "        print(\"Ошибка: Модуль math не может быть импортирован!\")\n"
   ]
  },
  {
   "cell_type": "code",
   "execution_count": 26,
   "id": "2972f6c6-bbe5-42d9-a03d-6a11e51c2a80",
   "metadata": {},
   "outputs": [
    {
     "name": "stdin",
     "output_type": "stream",
     "text": [
      "Введите число для вычисления квадратного корня:  4\n"
     ]
    },
    {
     "name": "stdout",
     "output_type": "stream",
     "text": [
      "Квадратный корень из 4.0: 2.0\n"
     ]
    }
   ],
   "source": [
    "task6()"
   ]
  },
  {
   "cell_type": "code",
   "execution_count": 27,
   "id": "68f2ca65-9c7b-4576-baeb-94555fb8d0b5",
   "metadata": {},
   "outputs": [
    {
     "name": "stdin",
     "output_type": "stream",
     "text": [
      "Введите число для вычисления квадратного корня:  -5\n"
     ]
    },
    {
     "name": "stdout",
     "output_type": "stream",
     "text": [
      "Ошибка: Невозможно вычислить квадратный корень из отрицательного числа!\n"
     ]
    }
   ],
   "source": [
    "task6()"
   ]
  },
  {
   "cell_type": "code",
   "execution_count": 28,
   "id": "8d9cd8a9-fc90-41cb-add2-fbedaa0b25da",
   "metadata": {},
   "outputs": [
    {
     "name": "stdin",
     "output_type": "stream",
     "text": [
      "Введите число для вычисления квадратного корня:  7\n"
     ]
    },
    {
     "name": "stdout",
     "output_type": "stream",
     "text": [
      "Квадратный корень из 7.0: 2.6457513110645907\n"
     ]
    }
   ],
   "source": [
    "task6()"
   ]
  },
  {
   "cell_type": "code",
   "execution_count": null,
   "id": "788d971e-8d03-4dd9-b4a3-2ba57a5fbf16",
   "metadata": {},
   "outputs": [],
   "source": []
  }
 ],
 "metadata": {
  "kernelspec": {
   "display_name": "Python 3 (ipykernel)",
   "language": "python",
   "name": "python3"
  },
  "language_info": {
   "codemirror_mode": {
    "name": "ipython",
    "version": 3
   },
   "file_extension": ".py",
   "mimetype": "text/x-python",
   "name": "python",
   "nbconvert_exporter": "python",
   "pygments_lexer": "ipython3",
   "version": "3.13.6"
  }
 },
 "nbformat": 4,
 "nbformat_minor": 5
}
